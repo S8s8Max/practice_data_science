{
 "cells": [
  {
   "cell_type": "code",
   "execution_count": 197,
   "metadata": {},
   "outputs": [],
   "source": [
    "# データ加工・処理・分析ライブラリ\n",
    "import numpy as np\n",
    "import numpy.random as random\n",
    "import scipy as sp\n",
    "from pandas import Series, DataFrame\n",
    "import pandas as pd\n",
    "\n",
    "# 可視化ライブラリ\n",
    "import matplotlib.pyplot as plt\n",
    "import matplotlib as mpl\n",
    "import seaborn as sns\n",
    "%matplotlib inline\n",
    "\n",
    "# 機械学習ライブラリ\n",
    "import sklearn\n",
    "\n",
    "# 小数第3位まで表示\n",
    "%precision 1\n",
    "from sklearn.model_selection import train_test_split\n",
    "from sklearn.linear_model import LogisticRegression\n",
    "\n",
    "import warnings\n",
    "warnings.filterwarnings('ignore')"
   ]
  },
  {
   "cell_type": "code",
   "execution_count": 198,
   "metadata": {},
   "outputs": [],
   "source": [
    "df = pd.read_csv(fr\"C:\\Users\\KIPPEI WATANABE\\Downloads\\train (2).csv\")\n",
    "df_test = pd.read_csv(fr\"C:\\Users\\KIPPEI WATANABE\\Downloads\\test (1).csv\")"
   ]
  },
  {
   "cell_type": "code",
   "execution_count": 199,
   "metadata": {},
   "outputs": [
    {
     "data": {
      "text/plain": [
       "fixed acidity             0\n",
       "volatile acidity          0\n",
       "citric acid               0\n",
       "residual sugar            0\n",
       "chlorides                 0\n",
       "free sulfur dioxide       0\n",
       "total sulfur dioxide      0\n",
       "density                 122\n",
       "pH                      137\n",
       "sulphates                 0\n",
       "alcohol                   0\n",
       "quality                   0\n",
       "dtype: int64"
      ]
     },
     "execution_count": 199,
     "metadata": {},
     "output_type": "execute_result"
    }
   ],
   "source": [
    "df.isnull().sum()"
   ]
  },
  {
   "cell_type": "code",
   "execution_count": 200,
   "metadata": {},
   "outputs": [
    {
     "data": {
      "text/plain": [
       "fixed acidity            0\n",
       "volatile acidity         0\n",
       "citric acid              0\n",
       "residual sugar           0\n",
       "chlorides                0\n",
       "free sulfur dioxide      0\n",
       "total sulfur dioxide     0\n",
       "density                 25\n",
       "pH                      24\n",
       "sulphates                0\n",
       "alcohol                  0\n",
       "dtype: int64"
      ]
     },
     "execution_count": 200,
     "metadata": {},
     "output_type": "execute_result"
    }
   ],
   "source": [
    "df_test.isnull().sum()"
   ]
  },
  {
   "cell_type": "code",
   "execution_count": 201,
   "metadata": {},
   "outputs": [
    {
     "data": {
      "text/plain": [
       "fixed acidity           0\n",
       "volatile acidity        0\n",
       "citric acid             0\n",
       "residual sugar          0\n",
       "chlorides               0\n",
       "free sulfur dioxide     0\n",
       "total sulfur dioxide    0\n",
       "density                 0\n",
       "pH                      0\n",
       "sulphates               0\n",
       "alcohol                 0\n",
       "quality                 0\n",
       "dtype: int64"
      ]
     },
     "execution_count": 201,
     "metadata": {},
     "output_type": "execute_result"
    }
   ],
   "source": [
    "density = pd.concat([df[\"density\"], df_test[\"density\"]])\n",
    "ph = pd.concat([df[\"pH\"], df_test[\"pH\"]])\n",
    "\n",
    "df[\"density\"].fillna(density.mean(), inplace=True)\n",
    "df_test[\"density\"].fillna(density.mean(), inplace=True)\n",
    "\n",
    "df[\"pH\"].fillna(ph.mean(), inplace=True)\n",
    "df_test[\"pH\"].fillna(ph.mean(), inplace=True)\n",
    "\n",
    "df.isnull().sum() "
   ]
  },
  {
   "cell_type": "code",
   "execution_count": 202,
   "metadata": {},
   "outputs": [],
   "source": [
    "X = df.iloc[:, 0:11].values\n",
    "y = df.iloc[:, 11].values\n",
    "\n",
    "X_test = df_test.iloc[:, 0:].values"
   ]
  },
  {
   "cell_type": "code",
   "execution_count": 203,
   "metadata": {},
   "outputs": [],
   "source": [
    "X_train, X_valid, y_train, y_valid = train_test_split(X, y, test_size=0.4, random_state=42)"
   ]
  },
  {
   "cell_type": "code",
   "execution_count": 204,
   "metadata": {},
   "outputs": [
    {
     "data": {
      "text/plain": [
       "RandomForestRegressor(bootstrap=True, criterion='mse', max_depth=None,\n",
       "                      max_features='auto', max_leaf_nodes=None,\n",
       "                      min_impurity_decrease=0.0, min_impurity_split=None,\n",
       "                      min_samples_leaf=1, min_samples_split=2,\n",
       "                      min_weight_fraction_leaf=0.0, n_estimators=10,\n",
       "                      n_jobs=None, oob_score=False, random_state=None,\n",
       "                      verbose=0, warm_start=False)"
      ]
     },
     "execution_count": 204,
     "metadata": {},
     "output_type": "execute_result"
    }
   ],
   "source": [
    "from sklearn.ensemble import RandomForestRegressor\n",
    "regr = RandomForestRegressor()\n",
    "regr.fit(X_train, y_train)"
   ]
  },
  {
   "cell_type": "code",
   "execution_count": 205,
   "metadata": {},
   "outputs": [
    {
     "name": "stdout",
     "output_type": "stream",
     "text": [
      "[4.9 5.8 5.9 6.2 6.1 5.5 6.  5.3 6.  5.2 6.3 5.  6.8 6.5 5.4 5.1 5.  6.4\n",
      " 6.  6.4 5.8 5.4 4.3 4.6 5.9 5.9 5.5 5.9 5.5 6.  5.9 5.1 6.2 5.1 4.6 5.7\n",
      " 5.4 6.4 5.8 5.7 5.  6.4 5.8 5.4 6.  5.6 5.3 5.7 5.7 6.4 5.3 6.5 5.4 5.7\n",
      " 5.4 5.  6.7 5.5 6.  5.7 6.8 4.9 5.6 4.8 5.4 7.2 5.3 5.  5.  5.4 5.  5.7\n",
      " 6.  4.8 5.9 6.6 6.4 5.4 5.6 5.4 6.3 5.  5.  5.3 6.2 6.  5.4 6.7 6.3 5.\n",
      " 5.  5.  5.3 5.4 5.4 5.2 6.3 5.2 5.9 5.2 6.  7.  5.5 5.  5.5 6.3 6.5 6.5\n",
      " 5.2 4.4 5.6 4.4 5.6 4.6 7.  5.8 4.5 5.3 5.5 5.  5.2 6.1 5.5 5.3 5.4 5.2\n",
      " 5.3 4.8 4.6 6.2 6.5 5.  5.5 5.2 5.8 6.6 5.  5.1 5.8 4.9 5.4 4.9 5.7 4.6\n",
      " 5.9 5.2 5.3 5.9 5.9 5.  6.4 4.8 5.4 5.3 5.8 5.7 5.2 6.2 6.9 5.  6.1 5.2\n",
      " 6.  5.9 5.2 5.5 5.5 6.6 4.8 6.7 4.6 6.4 5.5 6.2 6.2 6.3 6.8 5.  6.1 4.7\n",
      " 5.3 6.1 6.2 6.4 6.3 5.4 5.1 5.5 5.  5.7 5.8 6.1 5.5 6.1 6.2 4.7 5.4 6.2\n",
      " 5.7 5.1 5.7 4.8 5.8 7.2 5.  4.9 5.3 6.  5.  6.1 4.8 4.9 6.6 5.5 5.5 4.5\n",
      " 5.4 5.1 6.  6.6 6.2 5.2 5.  5.1 5.7 4.7 5.5 6.  6.5 5.3 5.9 5.6 5.9 6.2\n",
      " 5.5 6.5 5.1 4.8 4.6 6.2 5.9 5.3 6.5 5.2 4.9 6.5 5.4 5.8 6.3 5.1 5.7 6.4\n",
      " 4.8 5.9 5.8 5.9 5.  5.7 5.1 5.7 5.8 4.9 6.1 5.4 5.6 5.7 6.1 5.1 4.6 5.7\n",
      " 5.9 6.7 5.3 6.2 5.9 5.7 6.1 5.7 5.2 5.4 5.8 6.3 7.  5.6 6.7 4.6 6.4 5.5\n",
      " 5.2 5.2 5.  5.9 5.6 4.9 4.8 5.4 5.7 4.5 6.2 5.7 6.4 5.3 6.5 5.2 5.8 5.6\n",
      " 5.1 7.4 5.8 5.6 5.4 6.2 6.9 6.3 6.2 5.5 6.  4.8 4.9]\n"
     ]
    }
   ],
   "source": [
    "pred = regr.predict(X_test)\n",
    "print(pred)"
   ]
  },
  {
   "cell_type": "code",
   "execution_count": 206,
   "metadata": {},
   "outputs": [],
   "source": [
    "submission = pd.read_csv(fr\"C:\\Users\\KIPPEI WATANABE\\Downloads\\submission.csv\")\n",
    "submission[\"quality\"] = pred\n",
    "submission[\"quality\"] = round(submission, 1)\n",
    "submission.to_csv(fr\"C:\\Users\\KIPPEI WATANABE\\Downloads\\submission.csv\", index=False)"
   ]
  },
  {
   "cell_type": "code",
   "execution_count": 207,
   "metadata": {
    "scrolled": true
   },
   "outputs": [
    {
     "data": {
      "text/html": [
       "<div>\n",
       "<style scoped>\n",
       "    .dataframe tbody tr th:only-of-type {\n",
       "        vertical-align: middle;\n",
       "    }\n",
       "\n",
       "    .dataframe tbody tr th {\n",
       "        vertical-align: top;\n",
       "    }\n",
       "\n",
       "    .dataframe thead th {\n",
       "        text-align: right;\n",
       "    }\n",
       "</style>\n",
       "<table border=\"1\" class=\"dataframe\">\n",
       "  <thead>\n",
       "    <tr style=\"text-align: right;\">\n",
       "      <th></th>\n",
       "      <th>quality</th>\n",
       "    </tr>\n",
       "  </thead>\n",
       "  <tbody>\n",
       "    <tr>\n",
       "      <td>0</td>\n",
       "      <td>4.9</td>\n",
       "    </tr>\n",
       "    <tr>\n",
       "      <td>1</td>\n",
       "      <td>5.8</td>\n",
       "    </tr>\n",
       "    <tr>\n",
       "      <td>2</td>\n",
       "      <td>5.9</td>\n",
       "    </tr>\n",
       "    <tr>\n",
       "      <td>3</td>\n",
       "      <td>6.2</td>\n",
       "    </tr>\n",
       "    <tr>\n",
       "      <td>4</td>\n",
       "      <td>6.1</td>\n",
       "    </tr>\n",
       "    <tr>\n",
       "      <td>5</td>\n",
       "      <td>5.5</td>\n",
       "    </tr>\n",
       "    <tr>\n",
       "      <td>6</td>\n",
       "      <td>6.0</td>\n",
       "    </tr>\n",
       "    <tr>\n",
       "      <td>7</td>\n",
       "      <td>5.3</td>\n",
       "    </tr>\n",
       "    <tr>\n",
       "      <td>8</td>\n",
       "      <td>6.0</td>\n",
       "    </tr>\n",
       "    <tr>\n",
       "      <td>9</td>\n",
       "      <td>5.2</td>\n",
       "    </tr>\n",
       "    <tr>\n",
       "      <td>10</td>\n",
       "      <td>6.3</td>\n",
       "    </tr>\n",
       "    <tr>\n",
       "      <td>11</td>\n",
       "      <td>5.0</td>\n",
       "    </tr>\n",
       "    <tr>\n",
       "      <td>12</td>\n",
       "      <td>6.8</td>\n",
       "    </tr>\n",
       "    <tr>\n",
       "      <td>13</td>\n",
       "      <td>6.5</td>\n",
       "    </tr>\n",
       "    <tr>\n",
       "      <td>14</td>\n",
       "      <td>5.4</td>\n",
       "    </tr>\n",
       "    <tr>\n",
       "      <td>15</td>\n",
       "      <td>5.1</td>\n",
       "    </tr>\n",
       "    <tr>\n",
       "      <td>16</td>\n",
       "      <td>5.0</td>\n",
       "    </tr>\n",
       "    <tr>\n",
       "      <td>17</td>\n",
       "      <td>6.4</td>\n",
       "    </tr>\n",
       "    <tr>\n",
       "      <td>18</td>\n",
       "      <td>6.0</td>\n",
       "    </tr>\n",
       "  </tbody>\n",
       "</table>\n",
       "</div>"
      ],
      "text/plain": [
       "    quality\n",
       "0       4.9\n",
       "1       5.8\n",
       "2       5.9\n",
       "3       6.2\n",
       "4       6.1\n",
       "5       5.5\n",
       "6       6.0\n",
       "7       5.3\n",
       "8       6.0\n",
       "9       5.2\n",
       "10      6.3\n",
       "11      5.0\n",
       "12      6.8\n",
       "13      6.5\n",
       "14      5.4\n",
       "15      5.1\n",
       "16      5.0\n",
       "17      6.4\n",
       "18      6.0"
      ]
     },
     "execution_count": 207,
     "metadata": {},
     "output_type": "execute_result"
    }
   ],
   "source": [
    "submission.head(19)"
   ]
  },
  {
   "cell_type": "code",
   "execution_count": null,
   "metadata": {},
   "outputs": [],
   "source": []
  }
 ],
 "metadata": {
  "kernelspec": {
   "display_name": "Python 3",
   "language": "python",
   "name": "python3"
  },
  "language_info": {
   "codemirror_mode": {
    "name": "ipython",
    "version": 3
   },
   "file_extension": ".py",
   "mimetype": "text/x-python",
   "name": "python",
   "nbconvert_exporter": "python",
   "pygments_lexer": "ipython3",
   "version": "3.7.4"
  }
 },
 "nbformat": 4,
 "nbformat_minor": 2
}
